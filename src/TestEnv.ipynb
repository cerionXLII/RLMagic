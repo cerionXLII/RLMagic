{
 "cells": [
  {
   "cell_type": "code",
   "execution_count": 59,
   "metadata": {},
   "outputs": [
    {
     "name": "stdout",
     "output_type": "stream",
     "text": [
      "The autoreload extension is already loaded. To reload it, use:\n",
      "  %reload_ext autoreload\n"
     ]
    }
   ],
   "source": [
    "# Auto reload modules\n",
    "%load_ext autoreload\n",
    "%autoreload 2\n",
    "\n",
    "\n",
    "from ScheduleGym import ScheduleGym\n",
    "import gymnasium as gym\n",
    "import numpy as np"
   ]
  },
  {
   "cell_type": "markdown",
   "metadata": {},
   "source": [
    "# Create one environment"
   ]
  },
  {
   "cell_type": "code",
   "execution_count": 60,
   "metadata": {},
   "outputs": [],
   "source": [
    "env = ScheduleGym(num_days=2, num_hours=4, num_classes=1, num_subjects=2)\n"
   ]
  },
  {
   "cell_type": "code",
   "execution_count": 61,
   "metadata": {},
   "outputs": [
    {
     "name": "stdout",
     "output_type": "stream",
     "text": [
      "State dimensions: 10, Action dimensions: [1, 2, 4, 2]\n"
     ]
    }
   ],
   "source": [
    "state_dim = env.get_state_sizes()[0]\n",
    "action_dims = env.get_action_sizes()\n",
    "print(f'State dimensions: {state_dim}, Action dimensions: {action_dims}')"
   ]
  },
  {
   "cell_type": "code",
   "execution_count": 62,
   "metadata": {},
   "outputs": [
    {
     "data": {
      "text/plain": [
       "array([ 0.04225352,  0.05633803, -0.01408451, -0.01408451, -0.01408451,\n",
       "       -0.01408451, -0.01408451, -0.01408451, -0.01408451, -0.01408451])"
      ]
     },
     "execution_count": 62,
     "metadata": {},
     "output_type": "execute_result"
    }
   ],
   "source": [
    "state, info = env.reset()\n",
    "state"
   ]
  },
  {
   "cell_type": "code",
   "execution_count": 63,
   "metadata": {},
   "outputs": [
    {
     "name": "stdout",
     "output_type": "stream",
     "text": [
      "Class 1:\n",
      "Day 1: [-1 -1 -1 -1]\n",
      "Day 2: [-1 -1 -1 -1]\n",
      "\n",
      "Fitness: -7.0, Actions left: 70\n",
      "Target Hours:\n",
      "Class 1: [3 4]\n"
     ]
    }
   ],
   "source": [
    "env.render()"
   ]
  },
  {
   "cell_type": "code",
   "execution_count": 64,
   "metadata": {},
   "outputs": [
    {
     "name": "stdout",
     "output_type": "stream",
     "text": [
      "Performing action [0 1 1 0]\n",
      "State: [ 0.02816901  0.05633803 -0.01408451 -0.01408451 -0.01408451 -0.01408451\n",
      " -0.01408451  0.         -0.01408451 -0.01408451]\n",
      "Reward: -0.10000000000000009, Done: False, Truncated: False\n",
      "Class 1:\n",
      "Day 1: [-1 -1 -1 -1]\n",
      "Day 2: [-1  0 -1 -1]\n",
      "\n",
      "Fitness: -6.0, Actions left: 69\n",
      "Target Hours:\n",
      "Class 1: [2 4]\n"
     ]
    }
   ],
   "source": [
    "action = np.random.randint(action_dims)\n",
    "print(f'Performing action {action}')\n",
    "state, reward, done, truncated, info = env.step(action)\n",
    "print(f'State: {state}')\n",
    "print(f'Reward: {reward}, Done: {done}, Truncated: {truncated}')\n",
    "env.render()\n"
   ]
  },
  {
   "cell_type": "markdown",
   "metadata": {},
   "source": [
    "# Create several environments"
   ]
  },
  {
   "cell_type": "code",
   "execution_count": 75,
   "metadata": {},
   "outputs": [],
   "source": [
    "num_envs = 5\n",
    "# envs = gym.vector.AsyncVectorEnv(\n",
    "#     [lambda: ScheduleGym(num_days=2, num_hours=4, num_classes=1, num_subjects=2) for i in range(num_envs)]\n",
    "# )\n",
    "\n",
    "envs = gym.vector.SyncVectorEnv(\n",
    "    [lambda: ScheduleGym(num_days=2, num_hours=4, num_classes=1, num_subjects=2) for i in range(num_envs)]\n",
    ")"
   ]
  },
  {
   "cell_type": "code",
   "execution_count": 76,
   "metadata": {},
   "outputs": [
    {
     "data": {
      "text/plain": [
       "Box(0.0, 1.0, (10,), float32)"
      ]
     },
     "execution_count": 76,
     "metadata": {},
     "output_type": "execute_result"
    }
   ],
   "source": [
    "envs.single_observation_space"
   ]
  },
  {
   "cell_type": "code",
   "execution_count": 77,
   "metadata": {},
   "outputs": [
    {
     "data": {
      "text/plain": [
       "MultiDiscrete([1 2 4 2])"
      ]
     },
     "execution_count": 77,
     "metadata": {},
     "output_type": "execute_result"
    }
   ],
   "source": [
    "envs.single_action_space"
   ]
  },
  {
   "cell_type": "code",
   "execution_count": 78,
   "metadata": {},
   "outputs": [
    {
     "data": {
      "text/plain": [
       "[1, 2, 4, 2]"
      ]
     },
     "execution_count": 78,
     "metadata": {},
     "output_type": "execute_result"
    }
   ],
   "source": [
    "action_dims"
   ]
  },
  {
   "cell_type": "code",
   "execution_count": 79,
   "metadata": {},
   "outputs": [
    {
     "data": {
      "text/plain": [
       "(array([[ 0.04225352,  0.05633803, -0.01408451, -0.01408451, -0.01408451,\n",
       "         -0.01408451, -0.01408451, -0.01408451, -0.01408451, -0.01408451],\n",
       "        [ 0.05882353,  0.03921569, -0.01960784, -0.01960784, -0.01960784,\n",
       "         -0.01960784, -0.01960784, -0.01960784, -0.01960784, -0.01960784],\n",
       "        [ 0.07317073,  0.02439024, -0.02439024, -0.02439024, -0.02439024,\n",
       "         -0.02439024, -0.02439024, -0.02439024, -0.02439024, -0.02439024],\n",
       "        [ 0.04225352,  0.05633803, -0.01408451, -0.01408451, -0.01408451,\n",
       "         -0.01408451, -0.01408451, -0.01408451, -0.01408451, -0.01408451],\n",
       "        [ 0.05882353,  0.03921569, -0.01960784, -0.01960784, -0.01960784,\n",
       "         -0.01960784, -0.01960784, -0.01960784, -0.01960784, -0.01960784]],\n",
       "       dtype=float32),\n",
       " {})"
      ]
     },
     "execution_count": 79,
     "metadata": {},
     "output_type": "execute_result"
    }
   ],
   "source": [
    "envs.reset()"
   ]
  },
  {
   "cell_type": "code",
   "execution_count": 86,
   "metadata": {},
   "outputs": [
    {
     "name": "stdout",
     "output_type": "stream",
     "text": [
      "States: [[ 0.04225352  0.01408451 -0.01408451 -0.01408451 -0.01408451  0.01408451\n",
      "   0.01408451 -0.01408451 -0.01408451  0.01408451]\n",
      " [ 0.03278688  0.06557377 -0.01639344 -0.01639344 -0.01639344 -0.01639344\n",
      "  -0.01639344 -0.01639344 -0.01639344 -0.01639344]\n",
      " [ 0.05882353  0.03921569 -0.01960784 -0.01960784 -0.01960784 -0.01960784\n",
      "  -0.01960784 -0.01960784 -0.01960784 -0.01960784]\n",
      " [ 0.02816901  0.02816901 -0.01408451 -0.01408451 -0.01408451 -0.01408451\n",
      "   0.01408451  0.          0.01408451 -0.01408451]\n",
      " [ 0.01960784  0.          0.         -0.01960784  0.01960784 -0.01960784\n",
      "  -0.01960784  0.01960784  0.         -0.01960784]]\n",
      "Rewards: [-0.1  49.9  39.45 -2.1  -0.1 ]\n",
      "Dones: [False  True  True False False]\n",
      "Truncated: [False False False False False]\n",
      "Infos: {'final_observation': array([None,\n",
      "       array([ 0.        ,  0.        , -0.01960784,  0.        ,  0.01960784,\n",
      "               0.01960784, -0.01960784, -0.01960784,  0.        ,  0.        ]),\n",
      "       array([ 0.        ,  0.        ,  0.02439024, -0.02439024,  0.        ,\n",
      "              -0.02439024, -0.02439024,  0.        , -0.02439024,  0.        ]),\n",
      "       None, None], dtype=object), '_final_observation': array([False,  True,  True, False, False]), 'final_info': array([None, {}, {}, None, None], dtype=object), '_final_info': array([False,  True,  True, False, False])}\n"
     ]
    }
   ],
   "source": [
    "#Create a batch of actions, one for each environment\n",
    "actions = np.random.randint(low=np.zeros(len(action_dims)), high=action_dims, size=(num_envs, len(action_dims)))\n",
    "actions\n",
    "\n",
    "states, rewards, dones, truncated, infos = envs.step(actions)\n",
    "print(f'States: {states}')\n",
    "print(f'Rewards: {rewards}')\n",
    "print(f'Dones: {dones}')\n",
    "print(f'Truncated: {truncated}')\n",
    "print(f'Infos: {infos}')"
   ]
  },
  {
   "cell_type": "code",
   "execution_count": 87,
   "metadata": {},
   "outputs": [
    {
     "name": "stdout",
     "output_type": "stream",
     "text": [
      "Class 1:\n",
      "Day 1: [-1 -1 -1 -1]\n",
      "Day 2: [-1 -1 -1 -1]\n",
      "\n",
      "Fitness: -6.0, Actions left: 60\n",
      "Target Hours:\n",
      "Class 1: [2 4]\n"
     ]
    }
   ],
   "source": [
    "envs.envs[1].render()"
   ]
  },
  {
   "cell_type": "code",
   "execution_count": null,
   "metadata": {},
   "outputs": [],
   "source": []
  }
 ],
 "metadata": {
  "kernelspec": {
   "display_name": "tf38",
   "language": "python",
   "name": "python3"
  },
  "language_info": {
   "codemirror_mode": {
    "name": "ipython",
    "version": 3
   },
   "file_extension": ".py",
   "mimetype": "text/x-python",
   "name": "python",
   "nbconvert_exporter": "python",
   "pygments_lexer": "ipython3",
   "version": "3.8.19"
  }
 },
 "nbformat": 4,
 "nbformat_minor": 2
}
