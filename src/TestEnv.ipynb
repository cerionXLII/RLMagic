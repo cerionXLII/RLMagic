{
 "cells": [
  {
   "cell_type": "code",
   "execution_count": 1,
   "metadata": {},
   "outputs": [],
   "source": [
    "# Auto reload modules\n",
    "%load_ext autoreload\n",
    "%autoreload 2\n",
    "\n",
    "\n",
    "from ScheduleGym import ScheduleGym\n",
    "import gymnasium as gym\n",
    "import numpy as np"
   ]
  },
  {
   "cell_type": "markdown",
   "metadata": {},
   "source": [
    "# Create one environment"
   ]
  },
  {
   "cell_type": "code",
   "execution_count": 2,
   "metadata": {},
   "outputs": [],
   "source": [
    "env = ScheduleGym(num_days=2, num_hours=4, num_classes=1, num_subjects=2)\n"
   ]
  },
  {
   "cell_type": "code",
   "execution_count": 3,
   "metadata": {},
   "outputs": [
    {
     "name": "stdout",
     "output_type": "stream",
     "text": [
      "State dimensions: 10, Action dimensions: [2, 1, 2, 4, 2]\n"
     ]
    }
   ],
   "source": [
    "state_dim = env.get_state_sizes()[0]\n",
    "action_dims = env.get_action_sizes()\n",
    "print(f'State dimensions: {state_dim}, Action dimensions: {action_dims}')"
   ]
  },
  {
   "cell_type": "code",
   "execution_count": 4,
   "metadata": {},
   "outputs": [
    {
     "data": {
      "text/plain": [
       "array([ 0.03278689,  0.06557377, -0.01639344, -0.01639344, -0.01639344,\n",
       "       -0.01639344, -0.01639344, -0.01639344, -0.01639344, -0.01639344])"
      ]
     },
     "execution_count": 4,
     "metadata": {},
     "output_type": "execute_result"
    }
   ],
   "source": [
    "state, info = env.reset()\n",
    "state"
   ]
  },
  {
   "cell_type": "code",
   "execution_count": 5,
   "metadata": {},
   "outputs": [
    {
     "name": "stdout",
     "output_type": "stream",
     "text": [
      "Class 1:\n",
      "Day 1: [-1 -1 -1 -1]\n",
      "Day 2: [-1 -1 -1 -1]\n",
      "\n",
      "Fitness: -6.0, Actions left: 60\n",
      "Target Hours:\n",
      "Class 1: [2 4]\n"
     ]
    }
   ],
   "source": [
    "env.render()"
   ]
  },
  {
   "cell_type": "code",
   "execution_count": 47,
   "metadata": {},
   "outputs": [
    {
     "name": "stdout",
     "output_type": "stream",
     "text": [
      "Performing action [0 0 0 2 0]\n",
      "State: [ 0.01639344  0.06557377  0.         -0.01639344 -0.01639344 -0.01639344\n",
      " -0.01639344 -0.01639344 -0.01639344 -0.01639344]\n",
      "Reward: -1.1, Done: False, Truncated: False\n",
      "Class 1:\n",
      "Day 1: [ 0 -1 -1 -1]\n",
      "Day 2: [-1 -1 -1 -1]\n",
      "\n",
      "Fitness: -5.0, Actions left: 18\n",
      "Target Hours:\n",
      "Class 1: [1 4]\n"
     ]
    }
   ],
   "source": [
    "action = np.random.randint(action_dims)\n",
    "print(f'Performing action {action}')\n",
    "state, reward, done, truncated, info = env.step(action)\n",
    "print(f'State: {state}')\n",
    "print(f'Reward: {reward}, Done: {done}, Truncated: {truncated}')\n",
    "env.render()\n"
   ]
  },
  {
   "cell_type": "markdown",
   "metadata": {},
   "source": [
    "# Create several environments"
   ]
  },
  {
   "cell_type": "code",
   "execution_count": 48,
   "metadata": {},
   "outputs": [],
   "source": [
    "num_envs = 5\n",
    "# envs = gym.vector.AsyncVectorEnv(\n",
    "#     [lambda: ScheduleGym(num_days=2, num_hours=4, num_classes=1, num_subjects=2) for i in range(num_envs)]\n",
    "# )\n",
    "\n",
    "envs = gym.vector.SyncVectorEnv(\n",
    "    [lambda: ScheduleGym(num_days=2, num_hours=4, num_classes=1, num_subjects=2) for i in range(num_envs)]\n",
    ")"
   ]
  },
  {
   "cell_type": "code",
   "execution_count": 49,
   "metadata": {},
   "outputs": [
    {
     "data": {
      "text/plain": [
       "Box(0.0, 1.0, (10,), float32)"
      ]
     },
     "execution_count": 49,
     "metadata": {},
     "output_type": "execute_result"
    }
   ],
   "source": [
    "envs.single_observation_space"
   ]
  },
  {
   "cell_type": "code",
   "execution_count": 50,
   "metadata": {},
   "outputs": [
    {
     "data": {
      "text/plain": [
       "MultiDiscrete([2 1 2 4 2])"
      ]
     },
     "execution_count": 50,
     "metadata": {},
     "output_type": "execute_result"
    }
   ],
   "source": [
    "envs.single_action_space"
   ]
  },
  {
   "cell_type": "code",
   "execution_count": 51,
   "metadata": {},
   "outputs": [
    {
     "data": {
      "text/plain": [
       "[2, 1, 2, 4, 2]"
      ]
     },
     "execution_count": 51,
     "metadata": {},
     "output_type": "execute_result"
    }
   ],
   "source": [
    "action_dims"
   ]
  },
  {
   "cell_type": "code",
   "execution_count": 52,
   "metadata": {},
   "outputs": [
    {
     "data": {
      "text/plain": [
       "(array([[ 0.07317073,  0.02439024, -0.02439024, -0.02439024, -0.02439024,\n",
       "         -0.02439024, -0.02439024, -0.02439024, -0.02439024, -0.02439024],\n",
       "        [ 0.05633803,  0.04225352, -0.01408451, -0.01408451, -0.01408451,\n",
       "         -0.01408451, -0.01408451, -0.01408451, -0.01408451, -0.01408451],\n",
       "        [ 0.06557377,  0.03278688, -0.01639344, -0.01639344, -0.01639344,\n",
       "         -0.01639344, -0.01639344, -0.01639344, -0.01639344, -0.01639344],\n",
       "        [ 0.04225352,  0.05633803, -0.01408451, -0.01408451, -0.01408451,\n",
       "         -0.01408451, -0.01408451, -0.01408451, -0.01408451, -0.01408451],\n",
       "        [ 0.01960784,  0.07843138, -0.01960784, -0.01960784, -0.01960784,\n",
       "         -0.01960784, -0.01960784, -0.01960784, -0.01960784, -0.01960784]],\n",
       "       dtype=float32),\n",
       " {})"
      ]
     },
     "execution_count": 52,
     "metadata": {},
     "output_type": "execute_result"
    }
   ],
   "source": [
    "envs.reset()"
   ]
  },
  {
   "cell_type": "code",
   "execution_count": 69,
   "metadata": {},
   "outputs": [
    {
     "name": "stdout",
     "output_type": "stream",
     "text": [
      "States: [[ 0.07317073  0.02439024 -0.02439024 -0.02439024 -0.02439024 -0.02439024\n",
      "  -0.02439024 -0.02439024 -0.02439024 -0.02439024]\n",
      " [ 0.02816901  0.01408451  0.01408451 -0.01408451 -0.01408451  0.01408451\n",
      "   0.         -0.01408451 -0.01408451  0.        ]\n",
      " [ 0.04918033  0.01639344 -0.01639344 -0.01639344 -0.01639344  0.\n",
      "  -0.01639344 -0.01639344 -0.01639344  0.01639344]\n",
      " [ 0.04225352  0.02816901 -0.01408451  0.01408451 -0.01408451 -0.01408451\n",
      "   0.01408451 -0.01408451 -0.01408451 -0.01408451]\n",
      " [ 0.01960784  0.05882353 -0.01960784  0.01960784 -0.01960784 -0.01960784\n",
      "  -0.01960784 -0.01960784 -0.01960784 -0.01960784]]\n",
      "Rewards: [-2.1  -1.95 -1.1  -2.1  -0.1 ]\n",
      "Dones: [False False False False False]\n",
      "Truncated: [False False False False False]\n",
      "Infos: {}\n"
     ]
    }
   ],
   "source": [
    "#Create a batch of actions, one for each environment\n",
    "actions = np.random.randint(low=np.zeros(len(action_dims)), high=action_dims, size=(num_envs, len(action_dims)))\n",
    "actions\n",
    "\n",
    "states, rewards, dones, truncated, infos = envs.step(actions)\n",
    "print(f'States: {states}')\n",
    "print(f'Rewards: {rewards}')\n",
    "print(f'Dones: {dones}')\n",
    "print(f'Truncated: {truncated}')\n",
    "print(f'Infos: {infos}')"
   ]
  },
  {
   "cell_type": "code",
   "execution_count": 87,
   "metadata": {},
   "outputs": [
    {
     "name": "stdout",
     "output_type": "stream",
     "text": [
      "Class 1:\n",
      "Day 1: [-1 -1 -1 -1]\n",
      "Day 2: [-1 -1 -1 -1]\n",
      "\n",
      "Fitness: -6.0, Actions left: 60\n",
      "Target Hours:\n",
      "Class 1: [2 4]\n"
     ]
    }
   ],
   "source": [
    "envs.envs[1].render()"
   ]
  },
  {
   "cell_type": "code",
   "execution_count": 71,
   "metadata": {},
   "outputs": [
    {
     "name": "stdout",
     "output_type": "stream",
     "text": [
      "Number of possible actions: 40320000\n"
     ]
    }
   ],
   "source": [
    "# Number of possible actions\n",
    "num_classes = 20\n",
    "num_subjects = 20\n",
    "num_hours = 24*15\n",
    "num_days = 7*2\n",
    "num_teachers = 20\n",
    "\n",
    "num_actions = num_classes * num_subjects * num_hours * num_days * num_teachers\n",
    "print(f'Number of possible actions: {num_actions}') "
   ]
  }
 ],
 "metadata": {
  "kernelspec": {
   "display_name": "tf38",
   "language": "python",
   "name": "python3"
  },
  "language_info": {
   "codemirror_mode": {
    "name": "ipython",
    "version": 3
   },
   "file_extension": ".py",
   "mimetype": "text/x-python",
   "name": "python",
   "nbconvert_exporter": "python",
   "pygments_lexer": "ipython3",
   "version": "3.8.19"
  }
 },
 "nbformat": 4,
 "nbformat_minor": 2
}
